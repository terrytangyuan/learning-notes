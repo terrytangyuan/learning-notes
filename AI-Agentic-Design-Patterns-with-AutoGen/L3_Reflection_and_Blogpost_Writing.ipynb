{
 "cells": [
  {
   "cell_type": "markdown",
   "id": "fc3024e2",
   "metadata": {},
   "source": [
    "# Lesson 3: Reflection and Blogpost Writing"
   ]
  },
  {
   "cell_type": "markdown",
   "id": "3b0cc42f",
   "metadata": {},
   "source": [
    "## Setup"
   ]
  },
  {
   "cell_type": "code",
   "execution_count": 1,
   "id": "96d39be0-eaf3-456d-8613-ba21099ed36b",
   "metadata": {
    "height": 30
   },
   "outputs": [],
   "source": [
    "llm_config = {\"model\": \"gpt-3.5-turbo\"}"
   ]
  },
  {
   "cell_type": "markdown",
   "id": "0969e6bb",
   "metadata": {},
   "source": [
    "## The task!"
   ]
  },
  {
   "cell_type": "code",
   "execution_count": 2,
   "id": "e8074032-3690-4de9-ad08-ea8323cb441b",
   "metadata": {
    "height": 115
   },
   "outputs": [],
   "source": [
    "task = '''\n",
    "        Write a concise but engaging blogpost about\n",
    "       DeepLearning.AI. Make sure the blogpost is\n",
    "       within 100 words.\n",
    "       '''\n"
   ]
  },
  {
   "cell_type": "markdown",
   "id": "1987f023",
   "metadata": {},
   "source": [
    "## Create a writer agent"
   ]
  },
  {
   "cell_type": "code",
   "execution_count": 3,
   "id": "fe0f0a47-a9fe-43a0-b7b1-79922e4c4ac8",
   "metadata": {
    "height": 198
   },
   "outputs": [],
   "source": [
    "import autogen\n",
    "\n",
    "writer = autogen.AssistantAgent(\n",
    "    name=\"Writer\",\n",
    "    system_message=\"You are a writer. You write engaging and concise \" \n",
    "        \"blogpost (with title) on given topics. You must polish your \"\n",
    "        \"writing based on the feedback you receive and give a refined \"\n",
    "        \"version. Only return your final work without additional comments.\",\n",
    "    llm_config=llm_config,\n",
    ")"
   ]
  },
  {
   "cell_type": "code",
   "execution_count": 4,
   "id": "7c7b4d8d-40f7-4a05-8958-25d20054de3a",
   "metadata": {
    "height": 45
   },
   "outputs": [],
   "source": [
    "reply = writer.generate_reply(messages=[{\"content\": task, \"role\": \"user\"}])"
   ]
  },
  {
   "cell_type": "code",
   "execution_count": 5,
   "id": "c501c97d-e338-4f36-a384-6ec45983cf77",
   "metadata": {
    "height": 30
   },
   "outputs": [
    {
     "name": "stdout",
     "output_type": "stream",
     "text": [
      "Title: \"Unleashing the Power of Deep Learning with DeepLearning.AI\" \n",
      "\n",
      "Embark on a journey to mastery with DeepLearning.AI, a beacon of innovation in the world of artificial intelligence. Offering cutting-edge courses, including neural networks and deep learning specialization, DeepLearning.AI equips learners with the tools to revolutionize industries and drive technological advancements. With a focus on hands-on learning and expert instruction from industry leaders like Andrew Ng, this platform empowers students to delve into the depths of deep learning. Whether you're a seasoned professional or a curious beginner, DeepLearning.AI opens doors to a future where AI transforms the world. Dive in and unlock your potential today!\n"
     ]
    }
   ],
   "source": [
    "print(reply)"
   ]
  },
  {
   "cell_type": "markdown",
   "id": "49658114",
   "metadata": {},
   "source": [
    "## Adding reflection \n",
    "\n",
    "Create a critic agent to reflect on the work of the writer agent."
   ]
  },
  {
   "cell_type": "code",
   "execution_count": 6,
   "id": "c7fcd1c7-51ec-4915-8e97-bac03565c4c7",
   "metadata": {
    "height": 164
   },
   "outputs": [],
   "source": [
    "critic = autogen.AssistantAgent(\n",
    "    name=\"Critic\",\n",
    "    is_termination_msg=lambda x: x.get(\"content\", \"\").find(\"TERMINATE\") >= 0,\n",
    "    llm_config=llm_config,\n",
    "    system_message=\"You are a critic. You review the work of \"\n",
    "                \"the writer and provide constructive \"\n",
    "                \"feedback to help improve the quality of the content.\",\n",
    ")"
   ]
  },
  {
   "cell_type": "code",
   "execution_count": 7,
   "id": "899d5fdb-6081-470b-b287-8cf8b8142d0d",
   "metadata": {
    "height": 115
   },
   "outputs": [
    {
     "name": "stdout",
     "output_type": "stream",
     "text": [
      "\u001b[33mCritic\u001b[0m (to Writer):\n",
      "\n",
      "\n",
      "        Write a concise but engaging blogpost about\n",
      "       DeepLearning.AI. Make sure the blogpost is\n",
      "       within 100 words.\n",
      "       \n",
      "\n",
      "--------------------------------------------------------------------------------\n",
      "\u001b[33mWriter\u001b[0m (to Critic):\n",
      "\n",
      "Title: \"Unleashing the Power of Deep Learning with DeepLearning.AI\" \n",
      "\n",
      "Embark on a journey to mastery with DeepLearning.AI, a beacon of innovation in the world of artificial intelligence. Offering cutting-edge courses, including neural networks and deep learning specialization, DeepLearning.AI equips learners with the tools to revolutionize industries and drive technological advancements. With a focus on hands-on learning and expert instruction from industry leaders like Andrew Ng, this platform empowers students to delve into the depths of deep learning. Whether you're a seasoned professional or a curious beginner, DeepLearning.AI opens doors to a future where AI transforms the world. Dive in and unlock your potential today!\n",
      "\n",
      "--------------------------------------------------------------------------------\n",
      "\u001b[33mCritic\u001b[0m (to Writer):\n",
      "\n",
      "You have created a captivating blogpost about DeepLearning.AI, highlighting its innovative courses and the opportunity it provides for learners to master deep learning. The language used is engaging, and the post effectively conveys the platform's significance and potential impact on students. However, you may consider incorporating specific examples of success stories or testimonials from learners who have benefitted from DeepLearning.AI to make the content more relatable and persuasive. Additionally, adding a brief overview of the course structure or unique features of the platform could provide readers with more insight into what sets DeepLearning.AI apart. Overall, great job on creating an enticing piece; a few tweaks could enhance its effectiveness further.\n",
      "\n",
      "--------------------------------------------------------------------------------\n",
      "\u001b[33mWriter\u001b[0m (to Critic):\n",
      "\n",
      "Title: \"Transforming Futures with DeepLearning.AI: A Gateway to Expertise\"\n",
      "\n",
      "Delve into the realm of AI mastery through DeepLearning.AI, a trailblazer in cutting-edge education. Led by luminaries like Andrew Ng, this platform offers unparalleled courses, such as the coveted neural networks and deep learning specialization, empowering learners to reshape industries. Hear the success stories of individuals who have harnessed the power of deep learning, propelling their careers to new heights. Experience hands-on learning and guidance from industry experts, setting DeepLearning.AI apart as a beacon of innovation in the AI landscape. Join the ranks of future AI leaders today and unlock your full potential!\n",
      "\n",
      "--------------------------------------------------------------------------------\n"
     ]
    }
   ],
   "source": [
    "res = critic.initiate_chat(\n",
    "    recipient=writer,\n",
    "    message=task,\n",
    "    max_turns=2,\n",
    "    summary_method=\"last_msg\"\n",
    ")"
   ]
  },
  {
   "cell_type": "markdown",
   "id": "e7b76449",
   "metadata": {},
   "source": [
    "## Nested chat"
   ]
  },
  {
   "cell_type": "code",
   "execution_count": 8,
   "id": "401ecf92-63e9-40ff-aeed-1c404352e4ab",
   "metadata": {
    "height": 215
   },
   "outputs": [],
   "source": [
    "SEO_reviewer = autogen.AssistantAgent(\n",
    "    name=\"SEO Reviewer\",\n",
    "    llm_config=llm_config,\n",
    "    system_message=\"You are an SEO reviewer, known for \"\n",
    "        \"your ability to optimize content for search engines, \"\n",
    "        \"ensuring that it ranks well and attracts organic traffic. \" \n",
    "        \"Make sure your suggestion is concise (within 3 bullet points), \"\n",
    "        \"concrete and to the point. \"\n",
    "        \"Begin the review by stating your role.\",\n",
    ")\n"
   ]
  },
  {
   "cell_type": "code",
   "execution_count": 9,
   "id": "f85acb81-7ab9-4c84-b8bb-6fbae3dce848",
   "metadata": {
    "height": 198
   },
   "outputs": [],
   "source": [
    "legal_reviewer = autogen.AssistantAgent(\n",
    "    name=\"Legal Reviewer\",\n",
    "    llm_config=llm_config,\n",
    "    system_message=\"You are a legal reviewer, known for \"\n",
    "        \"your ability to ensure that content is legally compliant \"\n",
    "        \"and free from any potential legal issues. \"\n",
    "        \"Make sure your suggestion is concise (within 3 bullet points), \"\n",
    "        \"concrete and to the point. \"\n",
    "        \"Begin the review by stating your role.\",\n",
    ")"
   ]
  },
  {
   "cell_type": "code",
   "execution_count": 10,
   "id": "d46a177a-8088-4956-8d2b-3e916b8ca5e9",
   "metadata": {
    "height": 198
   },
   "outputs": [],
   "source": [
    "ethics_reviewer = autogen.AssistantAgent(\n",
    "    name=\"Ethics Reviewer\",\n",
    "    llm_config=llm_config,\n",
    "    system_message=\"You are an ethics reviewer, known for \"\n",
    "        \"your ability to ensure that content is ethically sound \"\n",
    "        \"and free from any potential ethical issues. \" \n",
    "        \"Make sure your suggestion is concise (within 3 bullet points), \"\n",
    "        \"concrete and to the point. \"\n",
    "        \"Begin the review by stating your role. \",\n",
    ")"
   ]
  },
  {
   "cell_type": "code",
   "execution_count": 11,
   "id": "a7b2ad6f-8ba6-436a-9459-14ffbe8a32d3",
   "metadata": {
    "height": 130
   },
   "outputs": [],
   "source": [
    "meta_reviewer = autogen.AssistantAgent(\n",
    "    name=\"Meta Reviewer\",\n",
    "    llm_config=llm_config,\n",
    "    system_message=\"You are a meta reviewer, you aggragate and review \"\n",
    "    \"the work of other reviewers and give a final suggestion on the content.\",\n",
    ")"
   ]
  },
  {
   "cell_type": "markdown",
   "id": "913beca1",
   "metadata": {},
   "source": [
    "## Orchestrate the nested chats to solve the task"
   ]
  },
  {
   "cell_type": "code",
   "execution_count": 12,
   "id": "a11a70c7-19ca-4e5a-ad3d-f2b481fb5915",
   "metadata": {
    "height": 555
   },
   "outputs": [],
   "source": [
    "def reflection_message(recipient, messages, sender, config):\n",
    "    return f'''Review the following content. \n",
    "            \\n\\n {recipient.chat_messages_for_summary(sender)[-1]['content']}'''\n",
    "\n",
    "review_chats = [\n",
    "    {\n",
    "     \"recipient\": SEO_reviewer, \n",
    "     \"message\": reflection_message, \n",
    "     \"summary_method\": \"reflection_with_llm\",\n",
    "     \"summary_args\": {\"summary_prompt\" : \n",
    "        \"Return review into as JSON object only:\"\n",
    "        \"{'Reviewer': '', 'Review': ''}. Here Reviewer should be your role\",},\n",
    "     \"max_turns\": 1},\n",
    "    {\n",
    "    \"recipient\": legal_reviewer, \"message\": reflection_message, \n",
    "     \"summary_method\": \"reflection_with_llm\",\n",
    "     \"summary_args\": {\"summary_prompt\" : \n",
    "        \"Return review into as JSON object only:\"\n",
    "        \"{'Reviewer': '', 'Review': ''}.\",},\n",
    "     \"max_turns\": 1},\n",
    "    {\"recipient\": ethics_reviewer, \"message\": reflection_message, \n",
    "     \"summary_method\": \"reflection_with_llm\",\n",
    "     \"summary_args\": {\"summary_prompt\" : \n",
    "        \"Return review into as JSON object only:\"\n",
    "        \"{'reviewer': '', 'review': ''}\",},\n",
    "     \"max_turns\": 1},\n",
    "     {\"recipient\": meta_reviewer, \n",
    "      \"message\": \"Aggregrate feedback from all reviewers and give final suggestions on the writing.\", \n",
    "     \"max_turns\": 1},\n",
    "]\n"
   ]
  },
  {
   "cell_type": "code",
   "execution_count": 13,
   "id": "b3a40b66-5061-460d-ad9d-c0dbcfbba2e9",
   "metadata": {
    "height": 81
   },
   "outputs": [],
   "source": [
    "critic.register_nested_chats(\n",
    "    review_chats,\n",
    "    trigger=writer,\n",
    ")"
   ]
  },
  {
   "cell_type": "markdown",
   "id": "43b8797d",
   "metadata": {},
   "source": [
    "**Note**: You might get a slightly different response than what's shown in the video. Feel free to try different task."
   ]
  },
  {
   "cell_type": "code",
   "execution_count": 14,
   "id": "3b8dcac3-1e72-43b7-9d5a-1be740f6efd5",
   "metadata": {
    "height": 115
   },
   "outputs": [
    {
     "name": "stdout",
     "output_type": "stream",
     "text": [
      "\u001b[33mCritic\u001b[0m (to Writer):\n",
      "\n",
      "\n",
      "        Write a concise but engaging blogpost about\n",
      "       DeepLearning.AI. Make sure the blogpost is\n",
      "       within 100 words.\n",
      "       \n",
      "\n",
      "--------------------------------------------------------------------------------\n",
      "\u001b[33mWriter\u001b[0m (to Critic):\n",
      "\n",
      "Title: \"Unleashing the Power of Deep Learning with DeepLearning.AI\" \n",
      "\n",
      "Embark on a journey to mastery with DeepLearning.AI, a beacon of innovation in the world of artificial intelligence. Offering cutting-edge courses, including neural networks and deep learning specialization, DeepLearning.AI equips learners with the tools to revolutionize industries and drive technological advancements. With a focus on hands-on learning and expert instruction from industry leaders like Andrew Ng, this platform empowers students to delve into the depths of deep learning. Whether you're a seasoned professional or a curious beginner, DeepLearning.AI opens doors to a future where AI transforms the world. Dive in and unlock your potential today!\n",
      "\n",
      "--------------------------------------------------------------------------------\n",
      "\u001b[34m\n",
      "********************************************************************************\u001b[0m\n",
      "\u001b[34mStarting a new chat....\u001b[0m\n",
      "\u001b[34m\n",
      "********************************************************************************\u001b[0m\n",
      "\u001b[33mCritic\u001b[0m (to SEO Reviewer):\n",
      "\n",
      "Review the following content. \n",
      "            \n",
      "\n",
      " Title: \"Unleashing the Power of Deep Learning with DeepLearning.AI\" \n",
      "\n",
      "Embark on a journey to mastery with DeepLearning.AI, a beacon of innovation in the world of artificial intelligence. Offering cutting-edge courses, including neural networks and deep learning specialization, DeepLearning.AI equips learners with the tools to revolutionize industries and drive technological advancements. With a focus on hands-on learning and expert instruction from industry leaders like Andrew Ng, this platform empowers students to delve into the depths of deep learning. Whether you're a seasoned professional or a curious beginner, DeepLearning.AI opens doors to a future where AI transforms the world. Dive in and unlock your potential today!\n",
      "\n",
      "--------------------------------------------------------------------------------\n",
      "\u001b[33mSEO Reviewer\u001b[0m (to Critic):\n",
      "\n",
      "**SEO Reviewer**\n",
      "\n",
      "- Consider including relevant keywords in the title and content such as \"Deep Learning courses\" or \"AI training\" to enhance search visibility.\n",
      "  \n",
      "- Utilize internal linking to guide users and search engines to related content on the website, boosting overall SEO performance.\n",
      "  \n",
      "- End the content with a strong call-to-action encouraging users to enroll or explore more courses for better conversion rates and user engagement.\n",
      "\n",
      "--------------------------------------------------------------------------------\n",
      "\u001b[34m\n",
      "********************************************************************************\u001b[0m\n",
      "\u001b[34mStarting a new chat....\u001b[0m\n",
      "\u001b[34m\n",
      "********************************************************************************\u001b[0m\n",
      "\u001b[33mCritic\u001b[0m (to Legal Reviewer):\n",
      "\n",
      "Review the following content. \n",
      "            \n",
      "\n",
      " Title: \"Unleashing the Power of Deep Learning with DeepLearning.AI\" \n",
      "\n",
      "Embark on a journey to mastery with DeepLearning.AI, a beacon of innovation in the world of artificial intelligence. Offering cutting-edge courses, including neural networks and deep learning specialization, DeepLearning.AI equips learners with the tools to revolutionize industries and drive technological advancements. With a focus on hands-on learning and expert instruction from industry leaders like Andrew Ng, this platform empowers students to delve into the depths of deep learning. Whether you're a seasoned professional or a curious beginner, DeepLearning.AI opens doors to a future where AI transforms the world. Dive in and unlock your potential today!\n",
      "Context: \n",
      "{'Reviewer': 'Content Writer', 'Review': 'The content effectively highlights the key features and benefits of DeepLearning.AI, encouraging readers to explore the platform. The tone is engaging and persuasive, motivating individuals to take action and enroll in the courses offered. Overall, the content is well-written and compelling.'}\n",
      "\n",
      "--------------------------------------------------------------------------------\n",
      "\u001b[33mLegal Reviewer\u001b[0m (to Critic):\n",
      "\n",
      "As a Legal Reviewer:\n",
      "\n",
      "- Ensure that all claims made about DeepLearning.AI, its courses, and its outcomes are accurate and substantiated to prevent potential false advertising claims.\n",
      "- Consider adding a disclaimer regarding the potential variability in outcomes based on individual effort and application of the knowledge gained from the courses.\n",
      "- Check for any mentions of guarantees or promises of specific career advancements to avoid misleading representations.\n",
      "\n",
      "--------------------------------------------------------------------------------\n",
      "\u001b[34m\n",
      "********************************************************************************\u001b[0m\n",
      "\u001b[34mStarting a new chat....\u001b[0m\n",
      "\u001b[34m\n",
      "********************************************************************************\u001b[0m\n",
      "\u001b[33mCritic\u001b[0m (to Ethics Reviewer):\n",
      "\n",
      "Review the following content. \n",
      "            \n",
      "\n",
      " Title: \"Unleashing the Power of Deep Learning with DeepLearning.AI\" \n",
      "\n",
      "Embark on a journey to mastery with DeepLearning.AI, a beacon of innovation in the world of artificial intelligence. Offering cutting-edge courses, including neural networks and deep learning specialization, DeepLearning.AI equips learners with the tools to revolutionize industries and drive technological advancements. With a focus on hands-on learning and expert instruction from industry leaders like Andrew Ng, this platform empowers students to delve into the depths of deep learning. Whether you're a seasoned professional or a curious beginner, DeepLearning.AI opens doors to a future where AI transforms the world. Dive in and unlock your potential today!\n",
      "Context: \n",
      "{'Reviewer': 'Content Writer', 'Review': 'The content effectively highlights the key features and benefits of DeepLearning.AI, encouraging readers to explore the platform. The tone is engaging and persuasive, motivating individuals to take action and enroll in the courses offered. Overall, the content is well-written and compelling.'}\n",
      "{'Reviewer': 'Content Writer', 'Review': 'The content effectively highlights the key features and benefits of DeepLearning.AI, encouraging readers to explore the platform. The tone is engaging and persuasive, motivating individuals to take action and enroll in the courses offered. Overall, the content is well-written and compelling.'}\n",
      "\n",
      "--------------------------------------------------------------------------------\n",
      "\u001b[33mEthics Reviewer\u001b[0m (to Critic):\n",
      "\n",
      "As an Ethics Reviewer:\n",
      "\n",
      "- Ensure that the content clearly discloses any affiliations or partnerships DeepLearning.AI may have with other organizations to maintain transparency.\n",
      "- Verify that claims about the benefits and outcomes of the courses offered are supported by evidence or testimonials to avoid misleading potential learners.\n",
      "- Check for any claims of exclusivity or superiority that may create unrealistic expectations for learners and ensure that the language used remains ethical and inclusive.\n",
      "\n",
      "--------------------------------------------------------------------------------\n",
      "\u001b[34m\n",
      "********************************************************************************\u001b[0m\n",
      "\u001b[34mStarting a new chat....\u001b[0m\n",
      "\u001b[34m\n",
      "********************************************************************************\u001b[0m\n",
      "\u001b[33mCritic\u001b[0m (to Meta Reviewer):\n",
      "\n",
      "Aggregrate feedback from all reviewers and give final suggestions on the writing.\n",
      "Context: \n",
      "{'Reviewer': 'Content Writer', 'Review': 'The content effectively highlights the key features and benefits of DeepLearning.AI, encouraging readers to explore the platform. The tone is engaging and persuasive, motivating individuals to take action and enroll in the courses offered. Overall, the content is well-written and compelling.'}\n",
      "{'Reviewer': 'Content Writer', 'Review': 'The content effectively highlights the key features and benefits of DeepLearning.AI, encouraging readers to explore the platform. The tone is engaging and persuasive, motivating individuals to take action and enroll in the courses offered. Overall, the content is well-written and compelling.'}\n",
      "{'reviewer': 'Content Writer', 'review': 'The content effectively highlights the key features and benefits of DeepLearning.AI, encouraging readers to explore the platform. The tone is engaging and persuasive, motivating individuals to take action and enroll in the courses offered. Overall, the content is well-written and compelling.'}\n"
     ]
    },
    {
     "name": "stdout",
     "output_type": "stream",
     "text": [
      "\n",
      "--------------------------------------------------------------------------------\n",
      "\u001b[33mMeta Reviewer\u001b[0m (to Critic):\n",
      "\n",
      "Based on the aggregated feedback from the reviewers, it is evident that the content effectively highlights the key features and benefits of DeepLearning.AI, encouraging readers to explore the platform. The tone is engaging, persuasive, and motivates individuals to take action and enroll in the courses offered. Overall, the content is well-written and compelling, as noted by all the reviewers.\n",
      "\n",
      "Final Suggestion:\n",
      "The writing has successfully conveyed the message and purpose of promoting DeepLearning.AI. To further enhance the content, it could be beneficial to add some specific examples or success stories of individuals who have benefited from the courses. This would provide a more personalized touch and strengthen the persuasive aspect of the content. Overall, the piece is strong and effectively achieves its goal of engaging readers to consider enrolling in DeepLearning.AI courses.\n",
      "\n",
      "--------------------------------------------------------------------------------\n",
      "\u001b[33mCritic\u001b[0m (to Writer):\n",
      "\n",
      "Based on the aggregated feedback from the reviewers, it is evident that the content effectively highlights the key features and benefits of DeepLearning.AI, encouraging readers to explore the platform. The tone is engaging, persuasive, and motivates individuals to take action and enroll in the courses offered. Overall, the content is well-written and compelling, as noted by all the reviewers.\n",
      "\n",
      "Final Suggestion:\n",
      "The writing has successfully conveyed the message and purpose of promoting DeepLearning.AI. To further enhance the content, it could be beneficial to add some specific examples or success stories of individuals who have benefited from the courses. This would provide a more personalized touch and strengthen the persuasive aspect of the content. Overall, the piece is strong and effectively achieves its goal of engaging readers to consider enrolling in DeepLearning.AI courses.\n",
      "\n",
      "--------------------------------------------------------------------------------\n",
      "\u001b[33mWriter\u001b[0m (to Critic):\n",
      "\n",
      "Title: \"Elevate Your Skills: The Deep Learning Revolution at DeepLearning.AI\"\n",
      "\n",
      "Unlock the world of artificial intelligence and propel your career with DeepLearning.AI. Led by industry expert Andrew Ng, this platform offers transformative courses in deep learning and neural networks. Dive into hands-on learning experiences that empower you to shape the future of technology. Join a community of learners pushing boundaries and driving innovation. Whether you're a novice or a seasoned pro, DeepLearning.AI paves the way for your success. Don't just dream of revolutionizing industries—make it a reality with DeepLearning.AI. Enroll today and unleash your potential!\n",
      "\n",
      "--------------------------------------------------------------------------------\n"
     ]
    }
   ],
   "source": [
    "res = critic.initiate_chat(\n",
    "    recipient=writer,\n",
    "    message=task,\n",
    "    max_turns=2,\n",
    "    summary_method=\"last_msg\"\n",
    ")"
   ]
  },
  {
   "cell_type": "markdown",
   "id": "c5c833b0",
   "metadata": {},
   "source": [
    "## Get the summary"
   ]
  },
  {
   "cell_type": "code",
   "execution_count": 15,
   "id": "68ef82ed-f102-4964-b7be-60e2f258a39b",
   "metadata": {
    "height": 30
   },
   "outputs": [
    {
     "name": "stdout",
     "output_type": "stream",
     "text": [
      "Title: \"Elevate Your Skills: The Deep Learning Revolution at DeepLearning.AI\"\n",
      "\n",
      "Unlock the world of artificial intelligence and propel your career with DeepLearning.AI. Led by industry expert Andrew Ng, this platform offers transformative courses in deep learning and neural networks. Dive into hands-on learning experiences that empower you to shape the future of technology. Join a community of learners pushing boundaries and driving innovation. Whether you're a novice or a seasoned pro, DeepLearning.AI paves the way for your success. Don't just dream of revolutionizing industries—make it a reality with DeepLearning.AI. Enroll today and unleash your potential!\n"
     ]
    }
   ],
   "source": [
    "print(res.summary)"
   ]
  }
 ],
 "metadata": {
  "kernelspec": {
   "display_name": "Python 3 (ipykernel)",
   "language": "python",
   "name": "python3"
  },
  "language_info": {
   "codemirror_mode": {
    "name": "ipython",
    "version": 3
   },
   "file_extension": ".py",
   "mimetype": "text/x-python",
   "name": "python",
   "nbconvert_exporter": "python",
   "pygments_lexer": "ipython3",
   "version": "3.11.9"
  }
 },
 "nbformat": 4,
 "nbformat_minor": 5
}
